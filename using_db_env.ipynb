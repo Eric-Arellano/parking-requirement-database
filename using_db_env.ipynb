{
 "cells": [
  {
   "cell_type": "code",
   "execution_count": 1,
   "id": "eb2af2f0",
   "metadata": {},
   "outputs": [],
   "source": [
    "%load_ext autoreload\n",
    "%autoreload 2"
   ]
  },
  {
   "cell_type": "code",
   "execution_count": 3,
   "id": "b7c85344",
   "metadata": {},
   "outputs": [],
   "source": [
    "from data_processing import *"
   ]
  },
  {
   "cell_type": "code",
   "execution_count": 4,
   "id": "aaa21583",
   "metadata": {},
   "outputs": [
    {
     "name": "stdout",
     "output_type": "stream",
     "text": [
      "Opening .csv\n",
      "                                             Use                                   Number of Spaces\n",
      "0                                      Adult Use                                    3 per 1,000 GFA\n",
      "1                 Agricultural Contractor Office                       3 per 1,000sf of office area\n",
      "2   Agricultural Sales and Service Establishment  3 per 1,000sf of indoor sales & display area +...\n",
      "3                                    Agriculture                                2 per dwelling unit\n",
      "4                                        Airport            10 per 1,000sf GFA of terminal building\n",
      "5                                Animal Hospital  1 per exam room + 1 per 100sf of public waitin...\n",
      "6                                    Art Gallery                                  1 per 1,000sf GFA\n",
      "7                                    Arts Studio                2 per 1,000sf of public studio area\n",
      "8                       Assisted Living Facility         .75 per room + 2 per 1,000sf GFA of office\n",
      "9                              Bed and Breakfast                       1 space + 1 per 2 guestrooms\n",
      "10              Broadcast Facilities (Radio, TV)                              No Standard Necessary\n",
      "11                                   Campgrounds                                    2 per camp site\n",
      "12                                      Car Wash                                 2 per car wash bay\n",
      "13                     Caretaker's Dwelling Unit                                1 per dwelling unit\n",
      "14                                Cargo Terminal  2 per 1,000sf GFA of office + 1 per 10,000sf G...\n",
      "15                                      Cemetery  1 per 4 seats in chapel + 3 per 1,000sf GFA of...\n",
      "16                    Community Residence, Large                            1 space + 1 per 4 rooms\n",
      "17                    Community Residence, Small                            1 space + 1 per 4 rooms\n",
      "18  Concentrated Animal Feeding Operation (CAFO)                       3 per 1,000sf of office area\n",
      "19                       Contractor Storage Yard                                  3 per 1,000sf GFA\n",
      "20                                  Country Club  Cumulative - determined by sum of requirements...\n",
      "21                             Cultural Facility                                  5 per 1,000sf GFA\n",
      "22               Day Care Center, Adult or Child                                  2 per 1,000sf GFA\n",
      "23                                 Driving Range                                    2 per tee stand\n",
      "24              Dwelling, Above the Ground Floor                                2 per dwelling unit\n",
      "25                        Dwelling, Multi-Family                                2 per dwelling unit\n",
      "26                       Dwelling, Single-Family                                2 per dwelling unit\n",
      "27                           Dwelling, Townhouse                                2 per dwelling unit\n",
      "28                          Dwelling, Two-Family                                2 per dwelling unit\n",
      "29              Education Facility, Agricultural      5 per classroom + 3 per 1,000sf GFA of office\n",
      "30                 Educational Facility, Primary                                    3 per classroom\n",
      "31               Educational Facility, Secondary      3 per classroom + 2 per 1,000sf GFA of office\n",
      "32              Educational Facility, University      5 per classroom + 3 per 1,000sf GFA of office\n",
      "33              Educational Facility, Vocational      5 per classroom + 3 per 1,000sf GFA of office\n",
      "34                         Financial Institution                      4 per 1,000sf GFA + 1 per ATM\n",
      "35                           Fraternity/Sorority                                       1 per 4 beds\n",
      "36                                  Funeral Home  2 per 1,000sf of office & chapel space + 2 per...\n",
      "37                                   Gas Station     2 per 1,000sf of accessory retail + 1 per pump\n",
      "38                                   Golf Course                                         4 per hole\n",
      "39                           Government Facility  2 per 1,000sf GFA of office + 2 per 1,000sf GF...\n",
      "40                            Greenhouse/Nursery  2 per 1,000sf GFA, including outdoor sales & d...\n",
      "41              Heavy Retail, Rental and Service  2 per 1,000sf GFA, including outdoor sales & d...\n",
      "42                                      Hospital                                          2 per bed\n",
      "43                                   Hotel/Motel                                       1.5 per room\n",
      "44                   Independent Living Facility        1.25 per room + 2 per 1,000sf GFA of office\n",
      "45                          Indoor Entertainment                 1 per 15 persons of rated capacity\n",
      "46                                 Movie Theater  1 per 4 seats for first 400 seats + 1 per 6 se...\n",
      "47                             Indoor Recreation                 1 per 15 persons of rated capacity\n",
      "48                                 Bowling Alley  3 per lane  Additional uses within the bowling...\n",
      "49                                      Junkyard                       3 per 1,000sf of office area\n",
      "50                                        Kennel                 1 per 100sf of public waiting area\n",
      "51                          Landscaping Business                       3 per 1,000sf of office area\n",
      "52                            Live Entertainment                   2 per 1,000sf of public use area\n",
      "53                            Live/Work Dwelling                                2 per dwelling unit\n",
      "54                        Manufactured Home Park                                    2 per home site\n",
      "55                        Manufacturing, General  2 per 1,000sf GFA of manufacturing area and of...\n",
      "56                          Manufacturing, Heavy  2 per 1,000sf GFA of manufacturing area and of...\n",
      "57                          Manufacturing, Light  2 per 1,000sf GFA of manufacturing area and of...\n",
      "58                         Medical/Dental Clinic  1 per exam room + 1 per 100sf of public waitin...\n",
      "59                         Mining and Excavating                                  1 per 2 employees\n",
      "60                                Mini-Warehouse                             1 per 25 storage units\n",
      "61                      Motor Vehicle Dealership  2 per 1,000sf of indoor display area + 3 per 1...\n",
      "62             Motor Vehicle Operations Facility                                  1 per 3,000sf GFA\n",
      "63            Motor Vehicle Rental Establishment  1 per 1,000sf of public waiting area + 3 per 1...\n",
      "64              Motor Vehicle Service and Repair                                          3 per bay\n",
      "65                                  Nursing Home          .5 per room + 2 per 1,000sf GFA of office\n",
      "66                                        Office                                  3 per 1,000sf GFA\n",
      "67                         Outdoor Entertainment                   2 per 1,000sf of public use area\n",
      "68                            Outdoor Recreation                   2 per 1,000sf of public use area\n",
      "69                          Outdoor Storage Yard  3 per 1,000sf GFA of office & public use area,...\n",
      "70                            Passenger Terminal             5 per 1,000sf GFA of terminal building\n",
      "71           Penal and Correctional Institutions          1 per 15 inmates of rated inmate capacity\n",
      "72               Personal Services Establishment                                  3 per 1,000sf GFA\n",
      "73                        Pet \"Day Care\" Service                                  2 per 1,000sf GFA\n",
      "74                              Place of Worship                                  5 per 1,000sf GFA\n",
      "75                              Recycling Center  2 per 1,000sf GFA of manufacturing area and of...\n",
      "76             Research and Development Facility                                  3 per 1,000sf GFA\n",
      "77                                    Restaurant  1 per 150sf + 4 stacking spaces per bay + 1/em...\n",
      "78                    Retail Sales Establishment                                  3 per 1,000sf GFA\n",
      "79                                Riding Academy                                     1 per 4 stalls\n",
      "80                                       Sawmill                       3 per 1,000sf of office area\n",
      "81                               Shopping Center  Less than 500,000sf GFA: 1 per 500sf of gross ...\n",
      "82                                Slaughterhouse                       3 per 1,000sf of office area\n",
      "83                          Social Club or Lodge                                  3 per 1,000sf GFA\n",
      "84                                    Solar Farm                       3 per 1,000sf of office area\n",
      "85                                   Sports Club                   2 per 1,000sf of public use area\n",
      "86            Sports Stadium (Indoor or Outdoor)                                      1 per 4 seats\n",
      "87                                        Stable                                     1 per 4 stalls\n",
      "88                                     Stockyard                       3 per 1,000sf of office area\n",
      "89                   Tattoo/Body Piercing Studio                                  3 per 1,000sf GFA\n",
      "90                                    Tavern/Bar                           1 per 200sf + 1/employee\n",
      "91                                    Truck Stop  1 truck space per 5,000sf GFA  Additional uses...\n",
      "92                               Vineyard/Winery  3 per 1,000sf GFA of tasting room area  Additi...\n",
      "93                        Warehouse/Distribution  1 per 20,000sf GFA of warehouse space + 3 per ...\n",
      "94                                     Wind Farm                       3 per 1,000sf of office area\n",
      "n: (95, 2)\n",
      "Column names: Index(['Use', 'Number of Spaces'], dtype='object')\n",
      "\n"
     ]
    },
    {
     "name": "stdout",
     "output_type": "stream",
     "text": [
      "Processing steps:\n",
      "                1. Remove extra headers\n",
      "                2. Remove extra columns and removes categories \n",
      "                3. Rename columns to \"Use\" and \"Number of Spaces\" (only use with 2 columns)\n",
      "                4. Remove duplicates\n",
      "                5. Save as .csv\n",
      "                Enter \"insert\" to start insertion.\n",
      "                Enter \"exit\" to exit.\n",
      "                >> exit\n"
     ]
    },
    {
     "ename": "SystemExit",
     "evalue": "Exiting program.",
     "output_type": "error",
     "traceback": [
      "An exception has occurred, use %tb to see the full traceback.\n",
      "\u001b[1;31mSystemExit\u001b[0m\u001b[1;31m:\u001b[0m Exiting program.\n"
     ]
    },
    {
     "name": "stderr",
     "output_type": "stream",
     "text": [
      "C:\\Users\\tungl\\anaconda3\\envs\\db_env\\Lib\\site-packages\\IPython\\core\\interactiveshell.py:3513: UserWarning: To exit: use 'exit', 'quit', or Ctrl-D.\n",
      "  warn(\"To exit: use 'exit', 'quit', or Ctrl-D.\", stacklevel=1)\n"
     ]
    }
   ],
   "source": [
    "pd.set_option('display.max_columns', None)\n",
    "pd.set_option('display.width', 160)\n",
    "pd.set_option('display.max_rows', None)\n",
    "st = \"IL\"\n",
    "reg = \"Franklin Park\"\n",
    "table_number = 1\n",
    "municode = \"https://library.municode.com/il/franklin_park/codes/code_of_ordinances?nodeId=CO_TIT9ZOOR_CH11OREPALO_9-11-5REOREVEPASP\"\n",
    "\n",
    "# test_connection()\n",
    "create_csv_url(\"IL\", \"Winnebago County\")\n",
    "# create_csv_url(st, reg, municode, table_number)\n",
    "# read_database()"
   ]
  },
  {
   "cell_type": "code",
   "execution_count": null,
   "id": "7f235c8e",
   "metadata": {},
   "outputs": [],
   "source": []
  }
 ],
 "metadata": {
  "kernelspec": {
   "display_name": "Python [conda env:db_env]",
   "language": "python",
   "name": "conda-env-db_env-py"
  },
  "language_info": {
   "codemirror_mode": {
    "name": "ipython",
    "version": 3
   },
   "file_extension": ".py",
   "mimetype": "text/x-python",
   "name": "python",
   "nbconvert_exporter": "python",
   "pygments_lexer": "ipython3",
   "version": "3.11.3"
  }
 },
 "nbformat": 4,
 "nbformat_minor": 5
}
